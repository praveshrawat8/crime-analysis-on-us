{
 "cells": [
  {
   "cell_type": "code",
   "execution_count": null,
   "id": "2f277f7c",
   "metadata": {},
   "outputs": [],
   "source": [
    "import pandas as pd\n",
    "import matplotlib.pyplot as plt\n",
    "import numpy as np\n",
    "import seaborn as sns"
   ]
  },
  {
   "cell_type": "code",
   "execution_count": null,
   "id": "337d38e0",
   "metadata": {},
   "outputs": [],
   "source": [
    "us_df=pd.read_csv(\"C:\\\\Users\\\\Mahesh\\\\Desktop\\\\pravesh\\\\report.csv\")\n",
    "us_df"
   ]
  },
  {
   "cell_type": "code",
   "execution_count": null,
   "id": "6c305938",
   "metadata": {},
   "outputs": [],
   "source": [
    "us_df.info()"
   ]
  },
  {
   "cell_type": "code",
   "execution_count": null,
   "id": "5881a75f",
   "metadata": {},
   "outputs": [],
   "source": [
    "us_df.isnull().sum()"
   ]
  },
  {
   "cell_type": "code",
   "execution_count": null,
   "id": "e4058356",
   "metadata": {},
   "outputs": [],
   "source": [
    "us_df.dropna(subset=[\"agency_code\",\"population\",\"violent_crimes\",\"homicides\",\"rapes\",\"assaults\",\"robberies\",\"months_reported\",\"crimes_percapita\",\"homicides_percapita\",\"rapes_percapita\",\"assaults_percapita\",\"robberies_percapita\"],inplace=True)\n",
    "us_df"
   ]
  },
  {
   "cell_type": "code",
   "execution_count": null,
   "id": "136d06eb",
   "metadata": {},
   "outputs": [],
   "source": [
    "us_df.isnull().sum()"
   ]
  },
  {
   "cell_type": "code",
   "execution_count": null,
   "id": "3c98238b",
   "metadata": {},
   "outputs": [],
   "source": [
    "cols=[\"violent_crimes\",\"homicides\",\"rapes\",\"assaults\",\"robberies\"]\n",
    "us_df[\"total_crime\"]=us_df[cols].sum(axis=1)\n",
    "us_df"
   ]
  },
  {
   "cell_type": "code",
   "execution_count": null,
   "id": "e6160942",
   "metadata": {},
   "outputs": [],
   "source": [
    "cols1=[\"crimes_percapita\",\"homicides_percapita\",\"rapes_percapita\",\"assaults_percapita\",\"robberies_percapita\"]\n",
    "us_df[\"total_crime_percapita\"]=us_df[cols1].sum(axis=1)\n",
    "us_df\n",
    "\n"
   ]
  },
  {
   "cell_type": "code",
   "execution_count": null,
   "id": "68c89e85",
   "metadata": {},
   "outputs": [],
   "source": [
    "h= us_df.groupby(['agency_jurisdiction'])['total_crime'].sum().sort_values(ascending=False).to_frame().reset_index()\n",
    "h\n",
    "\n",
    "u=h.nlargest(5,\"total_crime\")\n"
   ]
  },
  {
   "cell_type": "code",
   "execution_count": null,
   "id": "3f9ebda6",
   "metadata": {},
   "outputs": [],
   "source": [
    "plt.figure(figsize=(10,5))\n",
    "plt.ticklabel_format(style='plain')\n",
    "sns.barplot(x=\"agency_jurisdiction\",y=\"total_crime\",data=u)\n",
    "plt.title('Maximum no.of crimes')\n",
    "plt.xticks(rotation=45)\n",
    "\n",
    "plt.show()\n",
    "\n"
   ]
  },
  {
   "cell_type": "code",
   "execution_count": null,
   "id": "0d0d9db6",
   "metadata": {},
   "outputs": [],
   "source": [
    "i= us_df.groupby(['agency_jurisdiction'])['population'].sum().sort_values(ascending=False).to_frame().reset_index()\n",
    "i"
   ]
  },
  {
   "cell_type": "code",
   "execution_count": null,
   "id": "c11982c0",
   "metadata": {},
   "outputs": [],
   "source": [
    "j= us_df.groupby(['agency_jurisdiction'])['total_crime_percapita'].sum().sort_values(ascending=False).to_frame().reset_index()\n",
    "j\n",
    "tt=j.nlargest(5,'total_crime_percapita')\n",
    "tt\n"
   ]
  },
  {
   "cell_type": "code",
   "execution_count": null,
   "id": "65fdde98",
   "metadata": {},
   "outputs": [],
   "source": [
    "k=pd.merge(h,i,how=\"inner\")\n",
    "k\n",
    "k[\"total_crime_%\"]=k[\"total_crime\"]/k[\"population\"]*100\n",
    "hh=k.nlargest(5,\"total_crime_%\")\n",
    "hh"
   ]
  },
  {
   "cell_type": "code",
   "execution_count": null,
   "id": "cb8a75c0",
   "metadata": {},
   "outputs": [],
   "source": [
    "plt.subplot(1,2,1)\n",
    "plt.bar(tt[\"agency_jurisdiction\"],tt[\"total_crime_percapita\"],color='g')\n",
    "plt.title('Maximum no.of crimes per capita in us')\n",
    "plt.xticks(rotation=45)\n",
    "plt.subplot(1,2,2)\n",
    "plt.pie(hh[\"total_crime_%\"],labels=hh[\"agency_jurisdiction\"],autopct='%1.1f%%')\n",
    "plt.title('Maximum % of crimes in us')\n",
    "plt.subplots_adjust(left=0.1,\n",
    "                    bottom=0.1, \n",
    "                    right=0.9, \n",
    "                    top=0.9, \n",
    "                    wspace=0.4, \n",
    "                    hspace=0.4)\n",
    "plt.show()"
   ]
  },
  {
   "cell_type": "markdown",
   "id": "686da953",
   "metadata": {},
   "source": [
    "# FROM ABOVE 1st GRAPH WE COULD FIND THAT \"NEWYORK\" HAVE MAXIMUM NUMBER OF CRIMES IN U.S, BUT AFTER ANALYSING CRIMES PER CAPITA AND ITS PERCENTAGE WE COULD SAY THAT \"Atlanta, GA\" WITH 20.8% HAVE THE MAXIMUM NO.OF CRIMES IN U.S.\n"
   ]
  },
  {
   "cell_type": "code",
   "execution_count": null,
   "id": "3e4b93ac",
   "metadata": {},
   "outputs": [],
   "source": [
    "cols3=pd.read_csv(\"C:\\\\Users\\\\Mahesh\\\\Desktop\\\\pravesh\\\\report.csv\",usecols=[\"report_year\",\"agency_jurisdiction\",\"violent_crimes\",\"homicides\",\"rapes\",\"assaults\",\"robberies\"])\n",
    "cols3"
   ]
  },
  {
   "cell_type": "code",
   "execution_count": null,
   "id": "90c315c5",
   "metadata": {},
   "outputs": [],
   "source": [
    "g= cols3.groupby(['report_year'])\n",
    "w=g['violent_crimes','homicides','rapes','assaults','robberies'].sum().reset_index()\n",
    "w"
   ]
  },
  {
   "cell_type": "code",
   "execution_count": null,
   "id": "c8d7c7fc",
   "metadata": {},
   "outputs": [],
   "source": [
    "w[\"max_crime\"]=w[[\"violent_crimes\",\"homicides\",\"rapes\",\"assaults\",\"robberies\"]].idxmax(axis=1)\n",
    "w\n",
    "n=w.nlargest(10,\"violent_crimes\")\n",
    "n"
   ]
  },
  {
   "cell_type": "code",
   "execution_count": null,
   "id": "f8cf9eac",
   "metadata": {},
   "outputs": [],
   "source": [
    "plt.figure(figsize=(10,5))\n",
    "plt.ticklabel_format(style='plain')\n",
    "sns.barplot(x=\"report_year\",y=\"violent_crimes\",data=n)\n",
    "plt.title('Maximum no.of violent_cimes by year')\n",
    "plt.xticks(rotation=45)\n",
    "\n",
    "\n",
    "plt.show()"
   ]
  },
  {
   "cell_type": "code",
   "execution_count": null,
   "id": "c975b007",
   "metadata": {},
   "outputs": [],
   "source": [
    "plt.subplot(1,2,1)\n",
    "plt.hist(w[\"max_crime\"],color=\"r\")\n",
    "plt.title(\"maximum crime among all other crime\")\n",
    "plt.subplot(1,2,2)\n",
    "plt.pie(n[\"violent_crimes\"],labels=n[\"report_year\"],autopct='%0.2f%%')\n",
    "plt.title(\"maximum violent crime in % by year\")\n",
    "plt.subplots_adjust(left=0.1,\n",
    "                    bottom=0.1, \n",
    "                    right=0.9, \n",
    "                    top=0.9, \n",
    "                    wspace=0.4, \n",
    "                    hspace=0.4)\n",
    "plt.show()"
   ]
  },
  {
   "cell_type": "code",
   "execution_count": null,
   "id": "693fbb1c",
   "metadata": {},
   "outputs": [],
   "source": [
    "t= cols3.groupby(['agency_jurisdiction'])\n",
    "f=t['violent_crimes','homicides','rapes','assaults','robberies'].sum().reset_index()\n",
    "f\n"
   ]
  },
  {
   "cell_type": "code",
   "execution_count": null,
   "id": "071c87b2",
   "metadata": {},
   "outputs": [],
   "source": [
    "f[\"crime\"]=f[[\"violent_crimes\",\"homicides\",\"rapes\",\"assaults\",\"robberies\"]].idxmax(axis=1)\n",
    "f\n",
    "s=f.nlargest(10,\"violent_crimes\")\n",
    "s"
   ]
  },
  {
   "cell_type": "code",
   "execution_count": null,
   "id": "d9619c4b",
   "metadata": {},
   "outputs": [],
   "source": [
    "plt.figure(figsize=(10,5))\n",
    "plt.ticklabel_format(style='plain')\n",
    "sns.barplot(x=\"agency_jurisdiction\",y=\"violent_crimes\",data=s)\n",
    "plt.title('Maximum no.of violent_cimes by year')\n",
    "plt.xticks(rotation=45)\n",
    "\n",
    "\n",
    "plt.show()"
   ]
  },
  {
   "cell_type": "code",
   "execution_count": null,
   "id": "ccddd3a9",
   "metadata": {},
   "outputs": [],
   "source": [
    "plt.subplot(1,2,1)\n",
    "plt.hist(f[\"crime\"],color=\"r\")\n",
    "plt.title(\"maximum crime among all other crime\")\n",
    "plt.subplot(1,2,2)\n",
    "plt.pie(s[\"violent_crimes\"],labels=s[\"agency_jurisdiction\"],radius=1,autopct='%0.2f%%')\n",
    "plt.title(\"maximum violent crime in % by city\")\n",
    "plt.subplots_adjust(left=0.1,\n",
    "                    bottom=0.1, \n",
    "                    right=0.9, \n",
    "                    top=0.9, \n",
    "                    wspace=0.4, \n",
    "                    hspace=0.4)\n",
    "plt.show()"
   ]
  },
  {
   "cell_type": "markdown",
   "id": "be4c0766",
   "metadata": {},
   "source": [
    "# AFTER ANALYSING THE DATA BY YEAR AND CITY, IT IS FOUND THAT \"VIOLENT CRIME\" IS MORE COMPARING WITH ALL OTHER CRIMES, WHICH CAN BE SEEN BY ABOVE TWO HISTOGRAM,i.e MAXIMUM CRIME AMONG ALL OTHER CRIME. ALSO, IT IS FOUND THAT,IN THE YEAR \"1992\" WITH 10.92% AND CITY \"UNITED STATE\" WITH 82.43% HAVE THE MAXIMUM VIOLENT CRIMES IN US, WHICH CAN BE SEEN ABOVE BAR AND PIE CHART.\n"
   ]
  }
 ],
 "metadata": {
  "kernelspec": {
   "display_name": "Python 3 (ipykernel)",
   "language": "python",
   "name": "python3"
  },
  "language_info": {
   "codemirror_mode": {
    "name": "ipython",
    "version": 3
   },
   "file_extension": ".py",
   "mimetype": "text/x-python",
   "name": "python",
   "nbconvert_exporter": "python",
   "pygments_lexer": "ipython3",
   "version": "3.9.6"
  }
 },
 "nbformat": 4,
 "nbformat_minor": 5
}
